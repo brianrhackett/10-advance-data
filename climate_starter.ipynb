{
 "cells": [
  {
   "cell_type": "code",
   "execution_count": 1,
   "metadata": {},
   "outputs": [],
   "source": [
    "%matplotlib inline\n",
    "from matplotlib import style\n",
    "style.use('fivethirtyeight')\n",
    "import matplotlib.pyplot as plt"
   ]
  },
  {
   "cell_type": "code",
   "execution_count": 2,
   "metadata": {},
   "outputs": [],
   "source": [
    "import numpy as np\n",
    "import pandas as pd"
   ]
  },
  {
   "cell_type": "code",
   "execution_count": 3,
   "metadata": {},
   "outputs": [],
   "source": [
    "import datetime as dt\n",
    "from datetime import timedelta"
   ]
  },
  {
   "cell_type": "markdown",
   "metadata": {},
   "source": [
    "# Reflect Tables into SQLAlchemy ORM"
   ]
  },
  {
   "cell_type": "code",
   "execution_count": 4,
   "metadata": {},
   "outputs": [],
   "source": [
    "# Python SQL toolkit and Object Relational Mapper\n",
    "import sqlalchemy\n",
    "from sqlalchemy.ext.automap import automap_base\n",
    "from sqlalchemy.orm import Session\n",
    "from sqlalchemy import create_engine, func\n",
    "from sqlalchemy.sql.expression import text"
   ]
  },
  {
   "cell_type": "code",
   "execution_count": 5,
   "metadata": {},
   "outputs": [],
   "source": [
    "engine = create_engine(\"sqlite:///Resources/hawaii.sqlite\")"
   ]
  },
  {
   "cell_type": "code",
   "execution_count": 6,
   "metadata": {},
   "outputs": [],
   "source": [
    "# reflect an existing database into a new model\n",
    "Base = automap_base()\n",
    "# reflect the tables\n",
    "Base.prepare(engine, reflect=True)"
   ]
  },
  {
   "cell_type": "code",
   "execution_count": 7,
   "metadata": {},
   "outputs": [
    {
     "data": {
      "text/plain": [
       "['measurement', 'station']"
      ]
     },
     "execution_count": 7,
     "metadata": {},
     "output_type": "execute_result"
    }
   ],
   "source": [
    "# We can view all of the classes that automap found\n",
    "Base.classes.keys()"
   ]
  },
  {
   "cell_type": "code",
   "execution_count": 8,
   "metadata": {},
   "outputs": [],
   "source": [
    "# Save references to each table\n",
    "Measurement = Base.classes.measurement\n",
    "Station = Base.classes.station"
   ]
  },
  {
   "cell_type": "code",
   "execution_count": 9,
   "metadata": {},
   "outputs": [],
   "source": [
    "# Create our session (link) from Python to the DB\n",
    "session = Session(engine)"
   ]
  },
  {
   "cell_type": "markdown",
   "metadata": {},
   "source": [
    "# Exploratory Climate Analysis"
   ]
  },
  {
   "cell_type": "code",
   "execution_count": 10,
   "metadata": {},
   "outputs": [
    {
     "data": {
      "text/plain": [
       "<matplotlib.axes._subplots.AxesSubplot at 0x174f4f76358>"
      ]
     },
     "execution_count": 10,
     "metadata": {},
     "output_type": "execute_result"
    },
    {
     "data": {
      "image/png": "[encoded data removed]",
      "text/plain": [
       "<Figure size 432x288 with 1 Axes>"
      ]
     },
     "metadata": {
      "needs_background": "light"
     },
     "output_type": "display_data"
    }
   ],
   "source": [
    "# Design a query to retrieve the last 12 months of precipitation data and plot the results\n",
    "\n",
    "# Calculate the date 1 year ago from the last data point in the database\n",
    "latest_date = (session\n",
    "                .query(func.max(Measurement.date))\n",
    "                .first()\n",
    "               )\n",
    "dt_latest_date = dt.datetime.strptime(latest_date[0],'%Y-%m-%d')\n",
    "twelve_months_ago = dt.date(dt_latest_date.year - 1, dt_latest_date.month, dt_latest_date.day)\n",
    "\n",
    "# Perform a query to retrieve the data and precipitation scores\n",
    "precipitation = (session\n",
    "                 .query(Measurement.date, Measurement.prcp)\n",
    "                 .filter(Measurement.date >= func.strftime('%Y-%m-%d', twelve_months_ago))\n",
    "                ).all()\n",
    "\n",
    "# Save the query results as a Pandas DataFrame and set the index to the date column\n",
    "precipitation_df = pd.DataFrame(precipitation, columns=[\"date\",\"precipitation\"]).set_index(\"date\")\n",
    "\n",
    "# Sort the dataframe by date\n",
    "precipitation_df.sort_values(by=[\"date\"])\n",
    "\n",
    "# Use Pandas Plotting with Matplotlib to plot the data\n",
    "precipitation_df.plot.line()\n"
   ]
  },
  {
   "cell_type": "markdown",
   "metadata": {},
   "source": [
    "![precipitation](Images/precipitation.png)"
   ]
  },
  {
   "cell_type": "code",
   "execution_count": null,
   "metadata": {},
   "outputs": [
    {
     "data": {
      "text/html": [
       "<div>\n",
       "<style scoped>\n",
       "    .dataframe tbody tr th:only-of-type {\n",
       "        vertical-align: middle;\n",
       "    }\n",
       "\n",
       "    .dataframe tbody tr th {\n",
       "        vertical-align: top;\n",
       "    }\n",
       "\n",
       "    .dataframe thead th {\n",
       "        text-align: right;\n",
       "    }\n",
       "</style>\n",
       "<table border=\"1\" class=\"dataframe\">\n",
       "  <thead>\n",
       "    <tr style=\"text-align: right;\">\n",
       "      <th></th>\n",
       "      <th>precipitation</th>\n",
       "    </tr>\n",
       "  </thead>\n",
       "  <tbody>\n",
       "    <tr>\n",
       "      <th>count</th>\n",
       "      <td>2021.000000</td>\n",
       "    </tr>\n",
       "    <tr>\n",
       "      <th>mean</th>\n",
       "      <td>0.177279</td>\n",
       "    </tr>\n",
       "    <tr>\n",
       "      <th>std</th>\n",
       "      <td>0.461190</td>\n",
       "    </tr>\n",
       "    <tr>\n",
       "      <th>min</th>\n",
       "      <td>0.000000</td>\n",
       "    </tr>\n",
       "    <tr>\n",
       "      <th>25%</th>\n",
       "      <td>0.000000</td>\n",
       "    </tr>\n",
       "    <tr>\n",
       "      <th>50%</th>\n",
       "      <td>0.020000</td>\n",
       "    </tr>\n",
       "    <tr>\n",
       "      <th>75%</th>\n",
       "      <td>0.130000</td>\n",
       "    </tr>\n",
       "    <tr>\n",
       "      <th>max</th>\n",
       "      <td>6.700000</td>\n",
       "    </tr>\n",
       "  </tbody>\n",
       "</table>\n",
       "</div>"
      ],
      "text/plain": [
       "       precipitation\n",
       "count    2021.000000\n",
       "mean        0.177279\n",
       "std         0.461190\n",
       "min         0.000000\n",
       "25%         0.000000\n",
       "50%         0.020000\n",
       "75%         0.130000\n",
       "max         6.700000"
      ]
     },
     "execution_count": 11,
     "metadata": {},
     "output_type": "execute_result"
    }
   ],
   "source": [
    "# Use Pandas to calcualte the summary statistics for the precipitation data\n",
    "precipitation_df.describe()"
   ]
  },
  {
   "cell_type": "markdown",
   "metadata": {},
   "source": [
    "![describe](Images/describe.png)"
   ]
  },
  {
   "cell_type": "code",
   "execution_count": 11,
   "metadata": {},
   "outputs": [
    {
     "name": "stdout",
     "output_type": "stream",
     "text": [
      "9\n"
     ]
    }
   ],
   "source": [
    "# Design a query to show how many stations are available in this dataset?\n",
    "station_count = (session\n",
    "                 .query(Measurement.station.distinct())\n",
    "                 .count()\n",
    "                )\n",
    "print(station_count)"
   ]
  },
  {
   "cell_type": "code",
   "execution_count": 12,
   "metadata": {},
   "outputs": [
    {
     "name": "stdout",
     "output_type": "stream",
     "text": [
      "Station: USC00519281, Count: 2772\n",
      "Station: USC00519397, Count: 2724\n",
      "Station: USC00513117, Count: 2709\n",
      "Station: USC00519523, Count: 2669\n",
      "Station: USC00516128, Count: 2612\n",
      "Station: USC00514830, Count: 2202\n",
      "Station: USC00511918, Count: 1979\n",
      "Station: USC00517948, Count: 1372\n",
      "Station: USC00518838, Count: 511\n"
     ]
    }
   ],
   "source": [
    "# What are the most active stations? (i.e. what stations have the most rows)?\n",
    "# List the stations and the counts in descending order.\n",
    "stations = (session\n",
    "             .query(Measurement.station,func.count(Measurement.station).label('count'))\n",
    "             .order_by(func.count(Measurement.station).desc())\n",
    "             .group_by(Measurement.station)\n",
    "             .all()\n",
    "            )\n",
    "for station in stations:\n",
    "    print(f\"Station: {station.station}, Count: {station.count}\")"
   ]
  },
  {
   "cell_type": "code",
   "execution_count": 13,
   "metadata": {},
   "outputs": [
    {
     "name": "stdout",
     "output_type": "stream",
     "text": [
      "Highest: 85.0\n",
      "Lowest:  54.0\n",
      "Average: 71.66378066378067\n"
     ]
    }
   ],
   "source": [
    "# Using the station id from the previous query, calculate the lowest temperature recorded, \n",
    "# highest temperature recorded, and average temperature most active station?\n",
    "most_active_station_id = stations[0].station\n",
    "\n",
    "temperatures = (session\n",
    "               .query(func.max(Measurement.tobs).label('highest'),\n",
    "                      func.min(Measurement.tobs).label('lowest'), \n",
    "                      func.avg(Measurement.tobs).label('average')\n",
    "                     )\n",
    "                .filter(Measurement.station == most_active_station_id)\n",
    "                .first()\n",
    "               )\n",
    "\n",
    "print(f\"Highest: {temperatures.highest}\")\n",
    "print(f\"Lowest:  {temperatures.lowest}\")\n",
    "print(f\"Average: {temperatures.average}\")"
   ]
  },
  {
   "cell_type": "code",
   "execution_count": 14,
   "metadata": {},
   "outputs": [
    {
     "data": {
      "image/png": "[encoded data removed]",
      "text/plain": [
       "<Figure size 432x288 with 1 Axes>"
      ]
     },
     "metadata": {
      "needs_background": "light"
     },
     "output_type": "display_data"
    }
   ],
   "source": [
    "# Choose the station with the highest number of temperature observations.\n",
    "# Query the last 12 months of temperature observation data for this station and plot the results as a histogram\n",
    "\n",
    "tobs = (session\n",
    "            .query(Measurement.tobs)\n",
    "            .filter(Measurement.station == most_active_station_id)\n",
    "            .filter(Measurement.date >= func.strftime('%Y-%m-%d', twelve_months_ago))\n",
    "            .all()\n",
    "        )\n",
    "temps = [t[0] for t in tobs]\n",
    "\n",
    "plt.hist(temps,bins=12,label=\"tobs\")\n",
    "plt.ylabel(\"Frequency\")\n",
    "plt.legend()\n",
    "plt.show()"
   ]
  },
  {
   "cell_type": "markdown",
   "metadata": {},
   "source": [
    "![precipitation](Images/station-histogram.png)"
   ]
  },
  {
   "cell_type": "code",
   "execution_count": 15,
   "metadata": {},
   "outputs": [
    {
     "name": "stdout",
     "output_type": "stream",
     "text": [
      "[(62.0, 69.57142857142857, 74.0)]\n"
     ]
    }
   ],
   "source": [
    "# This function called `calc_temps` will accept start date and end date in the format '%Y-%m-%d' \n",
    "# and return the minimum, average, and maximum temperatures for that range of dates\n",
    "def calc_temps(start_date, end_date):\n",
    "    \"\"\"TMIN, TAVG, and TMAX for a list of dates.\n",
    "    \n",
    "    Args:\n",
    "        start_date (string): A date string in the format %Y-%m-%d\n",
    "        end_date (string): A date string in the format %Y-%m-%d\n",
    "        \n",
    "    Returns:\n",
    "        TMIN, TAVE, and TMAX\n",
    "    \"\"\"\n",
    "    \n",
    "    return session.query(func.min(Measurement.tobs), func.avg(Measurement.tobs), func.max(Measurement.tobs)).\\\n",
    "        filter(Measurement.date >= start_date).filter(Measurement.date <= end_date).all()\n",
    "\n",
    "# function usage example\n",
    "print(calc_temps('2012-02-28', '2012-03-05'))"
   ]
  },
  {
   "cell_type": "code",
   "execution_count": 67,
   "metadata": {},
   "outputs": [
    {
     "name": "stdout",
     "output_type": "stream",
     "text": [
      "Enter the start date for your trip ('yyyy-mm-dd')2017-03-03\n",
      "Enter the end date for your trip ('yyyy-mm-dd')2017-03-09\n",
      "(min,max,avg) for 2016-03-03 through 2016-03-09 were: \n",
      "\n",
      "[(62.0, 70.13333333333334, 78.0)]\n"
     ]
    }
   ],
   "source": [
    "# Use your previous function `calc_temps` to calculate the tmin, tavg, and tmax \n",
    "# for your trip using the previous year's data for those same dates.\n",
    "date_check = True\n",
    "while date_check:\n",
    "    start_date = input(\"Enter the start date for your trip ('yyyy-mm-dd')\")\n",
    "    end_date = input(\"Enter the end date for your trip ('yyyy-mm-dd')\")\n",
    "    if(end_date >= start_date):\n",
    "        date_check = False\n",
    "    else:\n",
    "        print(\"End date must come later than start date!\")\n",
    "        \n",
    "dt_start_date = dt.datetime.strptime(start_date,'%Y-%m-%d')\n",
    "dt_end_date = dt.datetime.strptime(end_date,'%Y-%m-%d')\n",
    "\n",
    "dt_start_date = dt.date(dt_start_date.year - 1, dt_start_date.month, dt_start_date.day)\n",
    "dt_end_date = dt.date(dt_end_date.year - 1, dt_end_date.month, dt_end_date.day)\n",
    "\n",
    "# this gets values for all dates as a single block\n",
    "normal_temps = calc_temps(dt_start_date, dt_end_date)\n",
    "\n",
    "print(f\"(min,max,avg) for {dt_start_date} through {dt_end_date} were: \\n\")\n",
    "print(normal_temps)"
   ]
  },
  {
   "cell_type": "code",
   "execution_count": 71,
   "metadata": {},
   "outputs": [
    {
     "data": {
      "image/png": "[encoded data removed]",
      "text/plain": [
       "<Figure size 432x288 with 1 Axes>"
      ]
     },
     "metadata": {
      "needs_background": "light"
     },
     "output_type": "display_data"
    }
   ],
   "source": [
    "# Plot the results from your previous query as a bar chart. \n",
    "# Use \"Trip Avg Temp\" as your Title\n",
    "# Use the average temperature for the y value\n",
    "# Use the peak-to-peak (tmax-tmin) value as the y error bar (yerr)\n",
    "\n",
    "error = (normal_temps[0][1] - normal_temps[0][0], normal_temps[0][2] - normal_temps[0][1])\n",
    "ave_temps = [t[0][1] for t in temps_list.values()]\n",
    "\n",
    "plt.bar([''], [normal_temps[0][1]], yerr=[error])\n",
    "plt.title(\"Trip Avg Temp\")\n",
    "\n",
    "plt.show()"
   ]
  },
  {
   "cell_type": "code",
   "execution_count": 89,
   "metadata": {},
   "outputs": [
    {
     "data": {
      "text/html": [
       "<div>\n",
       "<style scoped>\n",
       "    .dataframe tbody tr th:only-of-type {\n",
       "        vertical-align: middle;\n",
       "    }\n",
       "\n",
       "    .dataframe tbody tr th {\n",
       "        vertical-align: top;\n",
       "    }\n",
       "\n",
       "    .dataframe thead th {\n",
       "        text-align: right;\n",
       "    }\n",
       "</style>\n",
       "<table border=\"1\" class=\"dataframe\">\n",
       "  <thead>\n",
       "    <tr style=\"text-align: right;\">\n",
       "      <th></th>\n",
       "      <th>total_precipitation</th>\n",
       "      <th>station_name</th>\n",
       "      <th>latitude</th>\n",
       "      <th>longitude</th>\n",
       "      <th>elevation</th>\n",
       "    </tr>\n",
       "    <tr>\n",
       "      <th>station</th>\n",
       "      <th></th>\n",
       "      <th></th>\n",
       "      <th></th>\n",
       "      <th></th>\n",
       "      <th></th>\n",
       "    </tr>\n",
       "  </thead>\n",
       "  <tbody>\n",
       "    <tr>\n",
       "      <th>USC00519281</th>\n",
       "      <td>0.34</td>\n",
       "      <td>WAIHEE 837.5, HI US</td>\n",
       "      <td>21.45167</td>\n",
       "      <td>-157.84889</td>\n",
       "      <td>32.9</td>\n",
       "    </tr>\n",
       "    <tr>\n",
       "      <th>USC00519523</th>\n",
       "      <td>0.32</td>\n",
       "      <td>WAIMANALO EXPERIMENTAL FARM, HI US</td>\n",
       "      <td>21.33556</td>\n",
       "      <td>-157.71139</td>\n",
       "      <td>19.5</td>\n",
       "    </tr>\n",
       "    <tr>\n",
       "      <th>USC00514830</th>\n",
       "      <td>0.22</td>\n",
       "      <td>KUALOA RANCH HEADQUARTERS 886.9, HI US</td>\n",
       "      <td>21.52130</td>\n",
       "      <td>-157.83740</td>\n",
       "      <td>7.0</td>\n",
       "    </tr>\n",
       "    <tr>\n",
       "      <th>USC00516128</th>\n",
       "      <td>0.19</td>\n",
       "      <td>MANOA LYON ARBO 785.2, HI US</td>\n",
       "      <td>21.33310</td>\n",
       "      <td>-157.80250</td>\n",
       "      <td>152.4</td>\n",
       "    </tr>\n",
       "    <tr>\n",
       "      <th>USC00519397</th>\n",
       "      <td>0.19</td>\n",
       "      <td>WAIKIKI 717.2, HI US</td>\n",
       "      <td>21.27160</td>\n",
       "      <td>-157.81680</td>\n",
       "      <td>3.0</td>\n",
       "    </tr>\n",
       "    <tr>\n",
       "      <th>USC00513117</th>\n",
       "      <td>0.17</td>\n",
       "      <td>KANEOHE 838.1, HI US</td>\n",
       "      <td>21.42340</td>\n",
       "      <td>-157.80150</td>\n",
       "      <td>14.6</td>\n",
       "    </tr>\n",
       "    <tr>\n",
       "      <th>USC00517948</th>\n",
       "      <td>NaN</td>\n",
       "      <td>PEARL CITY, HI US</td>\n",
       "      <td>21.39340</td>\n",
       "      <td>-157.97510</td>\n",
       "      <td>11.9</td>\n",
       "    </tr>\n",
       "  </tbody>\n",
       "</table>\n",
       "</div>"
      ],
      "text/plain": [
       "             total_precipitation                            station_name  \\\n",
       "station                                                                    \n",
       "USC00519281                 0.34                     WAIHEE 837.5, HI US   \n",
       "USC00519523                 0.32      WAIMANALO EXPERIMENTAL FARM, HI US   \n",
       "USC00514830                 0.22  KUALOA RANCH HEADQUARTERS 886.9, HI US   \n",
       "USC00516128                 0.19            MANOA LYON ARBO 785.2, HI US   \n",
       "USC00519397                 0.19                    WAIKIKI 717.2, HI US   \n",
       "USC00513117                 0.17                    KANEOHE 838.1, HI US   \n",
       "USC00517948                  NaN                       PEARL CITY, HI US   \n",
       "\n",
       "             latitude  longitude  elevation  \n",
       "station                                      \n",
       "USC00519281  21.45167 -157.84889       32.9  \n",
       "USC00519523  21.33556 -157.71139       19.5  \n",
       "USC00514830  21.52130 -157.83740        7.0  \n",
       "USC00516128  21.33310 -157.80250      152.4  \n",
       "USC00519397  21.27160 -157.81680        3.0  \n",
       "USC00513117  21.42340 -157.80150       14.6  \n",
       "USC00517948  21.39340 -157.97510       11.9  "
      ]
     },
     "execution_count": 89,
     "metadata": {},
     "output_type": "execute_result"
    }
   ],
   "source": [
    "# Calculate the total amount of rainfall per weather station for your trip dates using the previous year's matching dates.\n",
    "# Sort this in descending order by precipitation amount and list the station, name, latitude, longitude, and elevation\n",
    "\n",
    "total_rainfall = (session.query(Measurement.station, func.sum(Measurement.prcp), \n",
    "                                Station.name, Station.latitude, Station.longitude, Station.elevation)\n",
    "#                   .from(Measurement)\n",
    "                  .join(Station, Station.station == Measurement.station)\n",
    "                  .filter(Measurement.date >= dt_start_date)\n",
    "                  .filter(Measurement.date <= dt_end_date)\n",
    "                  .group_by(Measurement.station)\n",
    "                  .order_by(func.sum(Measurement.prcp).desc())\n",
    "                  .all()\n",
    "                 )\n",
    "rainfall_df = pd.DataFrame(total_rainfall, \n",
    "                           columns=['station','total_precipitation', 'station_name','latitude','longitude','elevation']).set_index('station')\n",
    "rainfall_df"
   ]
  },
  {
   "cell_type": "markdown",
   "metadata": {},
   "source": [
    "## Optional Challenge Assignment"
   ]
  },
  {
   "cell_type": "code",
   "execution_count": 97,
   "metadata": {},
   "outputs": [
    {
     "data": {
      "text/plain": [
       "[(62.0, 69.15384615384616, 77.0)]"
      ]
     },
     "execution_count": 97,
     "metadata": {},
     "output_type": "execute_result"
    }
   ],
   "source": [
    "# Create a query that will calculate the daily normals \n",
    "# (i.e. the averages for tmin, tmax, and tavg for all historic data matching a specific month and day)\n",
    "\n",
    "def daily_normals(date):\n",
    "    \"\"\"Daily Normals.\n",
    "    \n",
    "    Args:\n",
    "        date (str): A date string in the format '%m-%d'\n",
    "        \n",
    "    Returns:\n",
    "        A list of tuples containing the daily normals, tmin, tavg, and tmax\n",
    "    \n",
    "    \"\"\"\n",
    "    \n",
    "    sel = [func.min(Measurement.tobs), func.avg(Measurement.tobs), func.max(Measurement.tobs)]\n",
    "    return session.query(*sel).filter(func.strftime(\"%m-%d\", Measurement.date) == date).all()\n",
    "    \n",
    "daily_normals(\"01-01\")"
   ]
  },
  {
   "cell_type": "code",
   "execution_count": 113,
   "metadata": {},
   "outputs": [
    {
     "name": "stdout",
     "output_type": "stream",
     "text": [
      "Enter the start date for your trip ('yyyy-mm-dd')2017-03-03\n",
      "Enter the end date for your trip ('yyyy-mm-dd')2017-03-30\n"
     ]
    },
    {
     "data": {
      "text/plain": [
       "[{'trip_date': '03-03', 'min': 60.0, 'ave': 70.06896551724138, 'max': 78.0},\n",
       " {'trip_date': '03-04', 'min': 57.0, 'ave': 69.27272727272727, 'max': 77.0},\n",
       " {'trip_date': '03-05', 'min': 60.0, 'ave': 67.89090909090909, 'max': 76.0},\n",
       " {'trip_date': '03-06', 'min': 60.0, 'ave': 69.20338983050847, 'max': 76.0},\n",
       " {'trip_date': '03-07', 'min': 60.0, 'ave': 69.17241379310344, 'max': 78.0},\n",
       " {'trip_date': '03-08', 'min': 59.0, 'ave': 68.72413793103448, 'max': 78.0},\n",
       " {'trip_date': '03-09', 'min': 57.0, 'ave': 68.56140350877193, 'max': 75.0},\n",
       " {'trip_date': '03-10', 'min': 57.0, 'ave': 69.12280701754386, 'max': 75.0},\n",
       " {'trip_date': '03-11', 'min': 60.0, 'ave': 69.89285714285714, 'max': 82.0},\n",
       " {'trip_date': '03-12', 'min': 62.0, 'ave': 69.88888888888889, 'max': 80.0},\n",
       " {'trip_date': '03-13', 'min': 56.0, 'ave': 69.29629629629629, 'max': 77.0},\n",
       " {'trip_date': '03-14', 'min': 62.0, 'ave': 70.32758620689656, 'max': 77.0},\n",
       " {'trip_date': '03-15', 'min': 58.0, 'ave': 68.54716981132076, 'max': 76.0},\n",
       " {'trip_date': '03-16', 'min': 60.0, 'ave': 69.70370370370371, 'max': 78.0},\n",
       " {'trip_date': '03-17', 'min': 57.0, 'ave': 68.54, 'max': 75.0},\n",
       " {'trip_date': '03-18', 'min': 57.0, 'ave': 67.7843137254902, 'max': 76.0},\n",
       " {'trip_date': '03-19', 'min': 60.0, 'ave': 69.1, 'max': 75.0},\n",
       " {'trip_date': '03-20', 'min': 62.0, 'ave': 70.11764705882354, 'max': 80.0},\n",
       " {'trip_date': '03-21', 'min': 60.0, 'ave': 71.07692307692308, 'max': 77.0},\n",
       " {'trip_date': '03-22', 'min': 65.0, 'ave': 71.75471698113208, 'max': 77.0},\n",
       " {'trip_date': '03-23', 'min': 63.0, 'ave': 70.79629629629629, 'max': 78.0},\n",
       " {'trip_date': '03-24', 'min': 62.0, 'ave': 71.5, 'max': 77.0},\n",
       " {'trip_date': '03-25', 'min': 63.0, 'ave': 71.5, 'max': 78.0},\n",
       " {'trip_date': '03-26', 'min': 64.0, 'ave': 71.38, 'max': 80.0},\n",
       " {'trip_date': '03-27', 'min': 63.0, 'ave': 71.53846153846153, 'max': 80.0},\n",
       " {'trip_date': '03-28', 'min': 59.0, 'ave': 71.51785714285714, 'max': 82.0},\n",
       " {'trip_date': '03-29', 'min': 58.0, 'ave': 71.35714285714286, 'max': 77.0},\n",
       " {'trip_date': '03-30', 'min': 62.0, 'ave': 72.17543859649123, 'max': 79.0}]"
      ]
     },
     "execution_count": 113,
     "metadata": {},
     "output_type": "execute_result"
    }
   ],
   "source": [
    "# calculate the daily normals for your trip\n",
    "# push each tuple of calculations into a list called `normals`\n",
    "\n",
    "# Set the start and end date of the trip\n",
    "date_check = True\n",
    "while date_check:\n",
    "    start_date = input(\"Enter the start date for your trip ('yyyy-mm-dd')\")\n",
    "    end_date = input(\"Enter the end date for your trip ('yyyy-mm-dd')\")\n",
    "    if(end_date >= start_date):\n",
    "        date_check = False\n",
    "    else:\n",
    "        print(\"End date must come later than start date!\")\n",
    "        \n",
    "# Use the start and end date to create a range of dates\n",
    "dt_start_date = dt.datetime.strptime(start_date,'%Y-%m-%d')\n",
    "dt_end_date = dt.datetime.strptime(end_date,'%Y-%m-%d')\n",
    "\n",
    "datelist = pd.date_range(start=dt_start_date,end=dt_end_date).tolist()\n",
    "\n",
    "# numdays = dt_end_date - dt_start_date\n",
    "# dateList = []\n",
    "# for x in range (0, numdays):\n",
    "#     dateList.append(a - datetime.timedelta(days = x))\n",
    "\n",
    "# Stip off the year and save a list of %m-%d strings\n",
    "new_date_list = [d.strftime('%m-%d') for d in datelist]\n",
    "\n",
    "# Loop through the list of %m-%d strings and calculate the normals for each date\n",
    "normals_by_date = []\n",
    "for trip_date in new_date_list:\n",
    "    normals = daily_normals(trip_date)\n",
    "    normals_by_date.append({\n",
    "        'trip_date': str(trip_date),\n",
    "        'min': normals[0][0],\n",
    "        'ave': normals[0][1],\n",
    "        'max': normals[0][2]\n",
    "    })\n",
    "    \n",
    "normals_by_date"
   ]
  },
  {
   "cell_type": "code",
   "execution_count": 123,
   "metadata": {
    "scrolled": false
   },
   "outputs": [
    {
     "data": {
      "text/html": [
       "<div>\n",
       "<style scoped>\n",
       "    .dataframe tbody tr th:only-of-type {\n",
       "        vertical-align: middle;\n",
       "    }\n",
       "\n",
       "    .dataframe tbody tr th {\n",
       "        vertical-align: top;\n",
       "    }\n",
       "\n",
       "    .dataframe thead th {\n",
       "        text-align: right;\n",
       "    }\n",
       "</style>\n",
       "<table border=\"1\" class=\"dataframe\">\n",
       "  <thead>\n",
       "    <tr style=\"text-align: right;\">\n",
       "      <th></th>\n",
       "      <th>ave</th>\n",
       "      <th>max</th>\n",
       "      <th>min</th>\n",
       "    </tr>\n",
       "    <tr>\n",
       "      <th>trip_date</th>\n",
       "      <th></th>\n",
       "      <th></th>\n",
       "      <th></th>\n",
       "    </tr>\n",
       "  </thead>\n",
       "  <tbody>\n",
       "    <tr>\n",
       "      <th>03-03</th>\n",
       "      <td>70.068966</td>\n",
       "      <td>78.0</td>\n",
       "      <td>60.0</td>\n",
       "    </tr>\n",
       "    <tr>\n",
       "      <th>03-04</th>\n",
       "      <td>69.272727</td>\n",
       "      <td>77.0</td>\n",
       "      <td>57.0</td>\n",
       "    </tr>\n",
       "    <tr>\n",
       "      <th>03-05</th>\n",
       "      <td>67.890909</td>\n",
       "      <td>76.0</td>\n",
       "      <td>60.0</td>\n",
       "    </tr>\n",
       "    <tr>\n",
       "      <th>03-06</th>\n",
       "      <td>69.203390</td>\n",
       "      <td>76.0</td>\n",
       "      <td>60.0</td>\n",
       "    </tr>\n",
       "    <tr>\n",
       "      <th>03-07</th>\n",
       "      <td>69.172414</td>\n",
       "      <td>78.0</td>\n",
       "      <td>60.0</td>\n",
       "    </tr>\n",
       "    <tr>\n",
       "      <th>03-08</th>\n",
       "      <td>68.724138</td>\n",
       "      <td>78.0</td>\n",
       "      <td>59.0</td>\n",
       "    </tr>\n",
       "    <tr>\n",
       "      <th>03-09</th>\n",
       "      <td>68.561404</td>\n",
       "      <td>75.0</td>\n",
       "      <td>57.0</td>\n",
       "    </tr>\n",
       "    <tr>\n",
       "      <th>03-10</th>\n",
       "      <td>69.122807</td>\n",
       "      <td>75.0</td>\n",
       "      <td>57.0</td>\n",
       "    </tr>\n",
       "    <tr>\n",
       "      <th>03-11</th>\n",
       "      <td>69.892857</td>\n",
       "      <td>82.0</td>\n",
       "      <td>60.0</td>\n",
       "    </tr>\n",
       "    <tr>\n",
       "      <th>03-12</th>\n",
       "      <td>69.888889</td>\n",
       "      <td>80.0</td>\n",
       "      <td>62.0</td>\n",
       "    </tr>\n",
       "    <tr>\n",
       "      <th>03-13</th>\n",
       "      <td>69.296296</td>\n",
       "      <td>77.0</td>\n",
       "      <td>56.0</td>\n",
       "    </tr>\n",
       "    <tr>\n",
       "      <th>03-14</th>\n",
       "      <td>70.327586</td>\n",
       "      <td>77.0</td>\n",
       "      <td>62.0</td>\n",
       "    </tr>\n",
       "    <tr>\n",
       "      <th>03-15</th>\n",
       "      <td>68.547170</td>\n",
       "      <td>76.0</td>\n",
       "      <td>58.0</td>\n",
       "    </tr>\n",
       "    <tr>\n",
       "      <th>03-16</th>\n",
       "      <td>69.703704</td>\n",
       "      <td>78.0</td>\n",
       "      <td>60.0</td>\n",
       "    </tr>\n",
       "    <tr>\n",
       "      <th>03-17</th>\n",
       "      <td>68.540000</td>\n",
       "      <td>75.0</td>\n",
       "      <td>57.0</td>\n",
       "    </tr>\n",
       "    <tr>\n",
       "      <th>03-18</th>\n",
       "      <td>67.784314</td>\n",
       "      <td>76.0</td>\n",
       "      <td>57.0</td>\n",
       "    </tr>\n",
       "    <tr>\n",
       "      <th>03-19</th>\n",
       "      <td>69.100000</td>\n",
       "      <td>75.0</td>\n",
       "      <td>60.0</td>\n",
       "    </tr>\n",
       "    <tr>\n",
       "      <th>03-20</th>\n",
       "      <td>70.117647</td>\n",
       "      <td>80.0</td>\n",
       "      <td>62.0</td>\n",
       "    </tr>\n",
       "    <tr>\n",
       "      <th>03-21</th>\n",
       "      <td>71.076923</td>\n",
       "      <td>77.0</td>\n",
       "      <td>60.0</td>\n",
       "    </tr>\n",
       "    <tr>\n",
       "      <th>03-22</th>\n",
       "      <td>71.754717</td>\n",
       "      <td>77.0</td>\n",
       "      <td>65.0</td>\n",
       "    </tr>\n",
       "    <tr>\n",
       "      <th>03-23</th>\n",
       "      <td>70.796296</td>\n",
       "      <td>78.0</td>\n",
       "      <td>63.0</td>\n",
       "    </tr>\n",
       "    <tr>\n",
       "      <th>03-24</th>\n",
       "      <td>71.500000</td>\n",
       "      <td>77.0</td>\n",
       "      <td>62.0</td>\n",
       "    </tr>\n",
       "    <tr>\n",
       "      <th>03-25</th>\n",
       "      <td>71.500000</td>\n",
       "      <td>78.0</td>\n",
       "      <td>63.0</td>\n",
       "    </tr>\n",
       "    <tr>\n",
       "      <th>03-26</th>\n",
       "      <td>71.380000</td>\n",
       "      <td>80.0</td>\n",
       "      <td>64.0</td>\n",
       "    </tr>\n",
       "    <tr>\n",
       "      <th>03-27</th>\n",
       "      <td>71.538462</td>\n",
       "      <td>80.0</td>\n",
       "      <td>63.0</td>\n",
       "    </tr>\n",
       "    <tr>\n",
       "      <th>03-28</th>\n",
       "      <td>71.517857</td>\n",
       "      <td>82.0</td>\n",
       "      <td>59.0</td>\n",
       "    </tr>\n",
       "    <tr>\n",
       "      <th>03-29</th>\n",
       "      <td>71.357143</td>\n",
       "      <td>77.0</td>\n",
       "      <td>58.0</td>\n",
       "    </tr>\n",
       "    <tr>\n",
       "      <th>03-30</th>\n",
       "      <td>72.175439</td>\n",
       "      <td>79.0</td>\n",
       "      <td>62.0</td>\n",
       "    </tr>\n",
       "  </tbody>\n",
       "</table>\n",
       "</div>"
      ],
      "text/plain": [
       "                 ave   max   min\n",
       "trip_date                       \n",
       "03-03      70.068966  78.0  60.0\n",
       "03-04      69.272727  77.0  57.0\n",
       "03-05      67.890909  76.0  60.0\n",
       "03-06      69.203390  76.0  60.0\n",
       "03-07      69.172414  78.0  60.0\n",
       "03-08      68.724138  78.0  59.0\n",
       "03-09      68.561404  75.0  57.0\n",
       "03-10      69.122807  75.0  57.0\n",
       "03-11      69.892857  82.0  60.0\n",
       "03-12      69.888889  80.0  62.0\n",
       "03-13      69.296296  77.0  56.0\n",
       "03-14      70.327586  77.0  62.0\n",
       "03-15      68.547170  76.0  58.0\n",
       "03-16      69.703704  78.0  60.0\n",
       "03-17      68.540000  75.0  57.0\n",
       "03-18      67.784314  76.0  57.0\n",
       "03-19      69.100000  75.0  60.0\n",
       "03-20      70.117647  80.0  62.0\n",
       "03-21      71.076923  77.0  60.0\n",
       "03-22      71.754717  77.0  65.0\n",
       "03-23      70.796296  78.0  63.0\n",
       "03-24      71.500000  77.0  62.0\n",
       "03-25      71.500000  78.0  63.0\n",
       "03-26      71.380000  80.0  64.0\n",
       "03-27      71.538462  80.0  63.0\n",
       "03-28      71.517857  82.0  59.0\n",
       "03-29      71.357143  77.0  58.0\n",
       "03-30      72.175439  79.0  62.0"
      ]
     },
     "execution_count": 123,
     "metadata": {},
     "output_type": "execute_result"
    }
   ],
   "source": [
    "# Load the previous query results into a Pandas DataFrame and add the `trip_dates` range as the `date` index\n",
    "normal_df = pd.DataFrame(normals_by_date).set_index('trip_date')\n",
    "normal_df"
   ]
  },
  {
   "cell_type": "code",
   "execution_count": 129,
   "metadata": {
    "scrolled": false
   },
   "outputs": [
    {
     "data": {
      "image/png": "[encoded data removed]",
      "text/plain": [
       "<Figure size 432x288 with 1 Axes>"
      ]
     },
     "metadata": {
      "needs_background": "light"
     },
     "output_type": "display_data"
    }
   ],
   "source": [
    "# Plot the daily normals as an area plot with `stacked=False`\n",
    "# plt.stackplot(new_date_list,normal_df['ave'],normal_df['min'],normal_df['max'], labels=['average','minimum','maximum'],stacked=False)\n",
    "\n",
    "normal_df.plot(kind='area', stacked=False, alpha=0.5, colormap='Greens', title=\"Temperature measur\")\n",
    "plt.legend(loc='upper left')\n",
    "plt.show()"
   ]
  },
  {
   "cell_type": "code",
   "execution_count": null,
   "metadata": {},
   "outputs": [],
   "source": []
  }
 ],
 "metadata": {
  "kernel_info": {
   "name": "python3"
  },
  "kernelspec": {
   "display_name": "Python 3",
   "language": "python",
   "name": "python3"
  },
  "language_info": {
   "codemirror_mode": {
    "name": "ipython",
    "version": 3
   },
   "file_extension": ".py",
   "mimetype": "text/x-python",
   "name": "python",
   "nbconvert_exporter": "python",
   "pygments_lexer": "ipython3",
   "version": "3.7.1"
  },
  "nteract": {
   "version": "0.12.3"
  },
  "varInspector": {
   "cols": {
    "lenName": 16,
    "lenType": 16,
    "lenVar": 40
   },
   "kernels_config": {
    "python": {
     "delete_cmd_postfix": "",
     "delete_cmd_prefix": "del ",
     "library": "var_list.py",
     "varRefreshCmd": "print(var_dic_list())"
    },
    "r": {
     "delete_cmd_postfix": ") ",
     "delete_cmd_prefix": "rm(",
     "library": "var_list.r",
     "varRefreshCmd": "cat(var_dic_list()) "
    }
   },
   "types_to_exclude": [
    "module",
    "function",
    "builtin_function_or_method",
    "instance",
    "_Feature"
   ],
   "window_display": false
  }
 },
 "nbformat": 4,
 "nbformat_minor": 2
}
